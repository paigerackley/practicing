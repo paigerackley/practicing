{
 "cells": [
  {
   "cell_type": "markdown",
   "id": "245b16b1",
   "metadata": {},
   "source": [
    "### Object Oriented Programming\n",
    "\n",
    "- OOP allows users to create their own objects.\n",
    "\n",
    "- Allows code creation that is repeatable and organized.\n",
    "\n",
    "- For much larger scripts of Python code, functions by themselves aren't enough for organization and repeatability. (This is really important and something big to focus on) SCRIPTING"
   ]
  },
  {
   "cell_type": "code",
   "execution_count": 4,
   "id": "51883bc9",
   "metadata": {},
   "outputs": [],
   "source": [
    "# EXAMPLE\n",
    "\n",
    "class NameOfClass():\n",
    "\n",
    "    def __init__(self,param1,param2):\n",
    "        self.param1 = param1\n",
    "        self.param2 = param2\n",
    " \n",
    "    def some_method(self):\n",
    "        # perform some action\n",
    "        print(self.param1)"
   ]
  },
  {
   "cell_type": "code",
   "execution_count": null,
   "id": "0bf14ebd",
   "metadata": {},
   "outputs": [],
   "source": []
  }
 ],
 "metadata": {
  "kernelspec": {
   "display_name": "Python 3 (ipykernel)",
   "language": "python",
   "name": "python3"
  },
  "language_info": {
   "codemirror_mode": {
    "name": "ipython",
    "version": 3
   },
   "file_extension": ".py",
   "mimetype": "text/x-python",
   "name": "python",
   "nbconvert_exporter": "python",
   "pygments_lexer": "ipython3",
   "version": "3.9.7"
  }
 },
 "nbformat": 4,
 "nbformat_minor": 5
}
