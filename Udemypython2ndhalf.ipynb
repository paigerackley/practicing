{
 "cells": [
  {
   "cell_type": "markdown",
   "id": "245b16b1",
   "metadata": {},
   "source": [
    "### Object Oriented Programming\n",
    "\n",
    "- OOP allows users to create their own objects.\n",
    "\n",
    "- Allows code creation that is repeatable and organized.\n",
    "\n",
    "- For much larger scripts of Python code, functions by themselves aren't enough for organization and repeatability. (This is really important and something big to focus on) SCRIPTING"
   ]
  },
  {
   "cell_type": "code",
   "execution_count": 4,
   "id": "51883bc9",
   "metadata": {},
   "outputs": [],
   "source": [
    "# EXAMPLE\n",
    "\n",
    "class NameOfClass():\n",
    "\n",
    "    def __init__(self,param1,param2):\n",
    "        self.param1 = param1\n",
    "        self.param2 = param2\n",
    " \n",
    "    def some_method(self):\n",
    "        # perform some action\n",
    "        print(self.param1)"
   ]
  },
  {
   "cell_type": "markdown",
   "id": "79d31ff0",
   "metadata": {},
   "source": [
    "### Attributes and Class Keyword"
   ]
  },
  {
   "cell_type": "code",
   "execution_count": 1,
   "id": "8eec01d5",
   "metadata": {},
   "outputs": [],
   "source": [
    "mylist = [1,2,3]"
   ]
  },
  {
   "cell_type": "code",
   "execution_count": 2,
   "id": "2a945dac",
   "metadata": {},
   "outputs": [],
   "source": [
    "myset = set()"
   ]
  },
  {
   "cell_type": "code",
   "execution_count": 3,
   "id": "ac386c68",
   "metadata": {},
   "outputs": [
    {
     "data": {
      "text/plain": [
       "set"
      ]
     },
     "execution_count": 3,
     "metadata": {},
     "output_type": "execute_result"
    }
   ],
   "source": [
    "type(myset)"
   ]
  },
  {
   "cell_type": "code",
   "execution_count": 4,
   "id": "65d0db9a",
   "metadata": {},
   "outputs": [
    {
     "data": {
      "text/plain": [
       "list"
      ]
     },
     "execution_count": 4,
     "metadata": {},
     "output_type": "execute_result"
    }
   ],
   "source": [
    "type(mylist)"
   ]
  },
  {
   "cell_type": "code",
   "execution_count": 27,
   "id": "478aa5a6",
   "metadata": {},
   "outputs": [],
   "source": [
    "class Dog():\n",
    "    \n",
    "    def __init__(self,breed,name,spots):\n",
    "        \n",
    "        # Attributes\n",
    "        # We take in the argument\n",
    "        # Assign it using self.attribute_name\n",
    "        self.breed = breed\n",
    "        self.name = name\n",
    "        \n",
    "        # Expect boolean True/False\n",
    "        self.spots = spots"
   ]
  },
  {
   "cell_type": "code",
   "execution_count": 28,
   "id": "281332ad",
   "metadata": {},
   "outputs": [],
   "source": [
    "my_dog = Dog(breed='Lab',name = 'Sammy', spots = 'False')"
   ]
  },
  {
   "cell_type": "code",
   "execution_count": 29,
   "id": "0f9882db",
   "metadata": {},
   "outputs": [
    {
     "data": {
      "text/plain": [
       "__main__.Dog"
      ]
     },
     "execution_count": 29,
     "metadata": {},
     "output_type": "execute_result"
    }
   ],
   "source": [
    "type(my_dog)"
   ]
  },
  {
   "cell_type": "code",
   "execution_count": 31,
   "id": "71758d9b",
   "metadata": {},
   "outputs": [
    {
     "data": {
      "text/plain": [
       "'Lab'"
      ]
     },
     "execution_count": 31,
     "metadata": {},
     "output_type": "execute_result"
    }
   ],
   "source": [
    "my_dog.breed"
   ]
  },
  {
   "cell_type": "code",
   "execution_count": 32,
   "id": "ae5e3a92",
   "metadata": {},
   "outputs": [
    {
     "data": {
      "text/plain": [
       "'Sammy'"
      ]
     },
     "execution_count": 32,
     "metadata": {},
     "output_type": "execute_result"
    }
   ],
   "source": [
    "my_dog.name"
   ]
  },
  {
   "cell_type": "code",
   "execution_count": 33,
   "id": "e92102de",
   "metadata": {},
   "outputs": [
    {
     "data": {
      "text/plain": [
       "'False'"
      ]
     },
     "execution_count": 33,
     "metadata": {},
     "output_type": "execute_result"
    }
   ],
   "source": [
    "my_dog.spots"
   ]
  },
  {
   "cell_type": "code",
   "execution_count": null,
   "id": "5464b940",
   "metadata": {},
   "outputs": [],
   "source": []
  }
 ],
 "metadata": {
  "kernelspec": {
   "display_name": "Python 3 (ipykernel)",
   "language": "python",
   "name": "python3"
  },
  "language_info": {
   "codemirror_mode": {
    "name": "ipython",
    "version": 3
   },
   "file_extension": ".py",
   "mimetype": "text/x-python",
   "name": "python",
   "nbconvert_exporter": "python",
   "pygments_lexer": "ipython3",
   "version": "3.9.7"
  }
 },
 "nbformat": 4,
 "nbformat_minor": 5
}
