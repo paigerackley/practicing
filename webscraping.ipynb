{
 "cells": [
  {
   "cell_type": "markdown",
   "id": "aa873606",
   "metadata": {},
   "source": [
    "[Link to exercise](https://www.geeksforgeeks.org/how-to-get-the-daily-news-using-python/)\n",
    "# How to get the Daily News using Python"
   ]
  },
  {
   "cell_type": "code",
   "execution_count": 10,
   "id": "40514ace",
   "metadata": {},
   "outputs": [],
   "source": [
    "import requests\n",
    "from bs4 import BeautifulSoup"
   ]
  },
  {
   "cell_type": "code",
   "execution_count": 11,
   "id": "02129d64",
   "metadata": {},
   "outputs": [],
   "source": [
    "url='https://www.bbc.com/news'\n",
    "response = requests.get(url)"
   ]
  },
  {
   "cell_type": "markdown",
   "id": "3e7e543a",
   "metadata": {},
   "source": [
    "<b> Step 3: Get specific HTML tag </b>"
   ]
  },
  {
   "cell_type": "code",
   "execution_count": 12,
   "id": "6035f730",
   "metadata": {},
   "outputs": [
    {
     "name": "stdout",
     "output_type": "stream",
     "text": [
      "Judge orders release of Trump search court papers\n",
      "Judge orders release of Trump search court papers\n",
      "World narrowly avoided nuclear accident - Zelensky\n",
      "Putin orders 10% boost in Russian troop numbers\n",
      "'It's immoral for taxpayers to be forced to pay'\n",
      "When a 17-year-old Serena showed the tennis world its future\n",
      "'I need an abortion': The text that gets pills sent in secret\n",
      "Synthetic mouse embryo develops beating heart\n",
      "Hospital rant at Zimbabwean goes viral in S Africa\n",
      "'Getting custody papers on stage was vicious'\n",
      "The lost truth of American whiskey\n",
      "Unvaccinated Djokovic unable to travel for US Open\n",
      "The lost truth of American whiskey\n",
      "Unvaccinated Djokovic unable to travel for US Open\n",
      "House of the Dragon needs trigger warning, charity says\n",
      "Google 'airbrushes' out emissions from flying\n",
      "French anger at UK sewage dumped in sea\n",
      "'I honestly think they should waive all student debt'\n",
      "BBC World News TV\n",
      "BBC World Service Radio\n",
      "Escaped 18ft python spotted on roof of house\n",
      "Hotpot in caves as Chinese residents flee heatwave\n",
      "Edinburgh visitors shocked by stinking bin strike mess\n",
      "On call with Italy's horseback doctor\n",
      "Band stuck in Calais queue perform surprise gig\n",
      "Is Biden's student debt forgiveness fair?\n",
      "‘Kill us, but don’t deport us to Myanmar’\n",
      "Why African countries are buying Turkish drones\n",
      "Scott Mills: Keeping people smiling in good times and bad\n",
      "Why India made a U-turn on free trade deals\n",
      "The war is static, but ousting Russia is a seismic task\n",
      "The political brawl brewing on Florida's airwaves\n",
      "Living without plastic in Japan\n",
      "The big height discrimination problem\n",
      "An ancient earthquake-defying design\n",
      "11 films to watch this September\n",
      "Should we be avoiding contrails?\n",
      "The rivalry that makes you better\n",
      "The lost truth of American whiskey\n",
      "News daily newsletter\n",
      "Mobile app\n",
      "Get in touch\n"
     ]
    }
   ],
   "source": [
    "soup = BeautifulSoup(response.text, 'html.parser')\n",
    "headlines = soup.find('body').find_all('h3')\n",
    "# H3 shows us all headlines on the page, so the output will be all the headlines of all the articles in the URL\n",
    "for x in headlines:\n",
    "    print(x.text.strip())"
   ]
  },
  {
   "cell_type": "markdown",
   "id": "f6c8ac46",
   "metadata": {},
   "source": [
    "<b> Cleaning the data</b>\n",
    "\n",
    "How do I want to clean this? I don't see many duplicates, but I do see some headlines that don't look like articles."
   ]
  },
  {
   "cell_type": "code",
   "execution_count": 13,
   "id": "6245ae81",
   "metadata": {},
   "outputs": [],
   "source": [
    "unwanted = ['Judge orders release of Trump search court papers', 'Unvaccinated Djokovic unable to travel for US Open',\n",
    "'The lost truth of American whiskey', 'News daily newsletter', 'Mobile app', 'Get in touch']  "
   ]
  },
  {
   "cell_type": "code",
   "execution_count": 14,
   "id": "3db70764",
   "metadata": {},
   "outputs": [
    {
     "name": "stdout",
     "output_type": "stream",
     "text": [
      "World narrowly avoided nuclear accident - Zelensky\n",
      "Putin orders 10% boost in Russian troop numbers\n",
      "'It's immoral for taxpayers to be forced to pay'\n",
      "When a 17-year-old Serena showed the tennis world its future\n",
      "'I need an abortion': The text that gets pills sent in secret\n",
      "Synthetic mouse embryo develops beating heart\n",
      "Hospital rant at Zimbabwean goes viral in S Africa\n",
      "'Getting custody papers on stage was vicious'\n",
      "House of the Dragon needs trigger warning, charity says\n",
      "Google 'airbrushes' out emissions from flying\n",
      "French anger at UK sewage dumped in sea\n",
      "'I honestly think they should waive all student debt'\n",
      "BBC World News TV\n",
      "BBC World Service Radio\n",
      "Escaped 18ft python spotted on roof of house\n",
      "Hotpot in caves as Chinese residents flee heatwave\n",
      "Edinburgh visitors shocked by stinking bin strike mess\n",
      "On call with Italy's horseback doctor\n",
      "Band stuck in Calais queue perform surprise gig\n",
      "Is Biden's student debt forgiveness fair?\n",
      "‘Kill us, but don’t deport us to Myanmar’\n",
      "Why African countries are buying Turkish drones\n",
      "Scott Mills: Keeping people smiling in good times and bad\n",
      "Why India made a U-turn on free trade deals\n",
      "The war is static, but ousting Russia is a seismic task\n",
      "The political brawl brewing on Florida's airwaves\n",
      "Living without plastic in Japan\n",
      "The big height discrimination problem\n",
      "An ancient earthquake-defying design\n",
      "11 films to watch this September\n",
      "Should we be avoiding contrails?\n",
      "The rivalry that makes you better\n"
     ]
    }
   ],
   "source": [
    "for x in list(dict.fromkeys(headlines)):\n",
    "    if x.text.strip() not in unwanted:\n",
    "        print(x.text.strip())"
   ]
  },
  {
   "cell_type": "code",
   "execution_count": null,
   "id": "beb402be",
   "metadata": {},
   "outputs": [],
   "source": []
  }
 ],
 "metadata": {
  "kernelspec": {
   "display_name": "Python 3 (ipykernel)",
   "language": "python",
   "name": "python3"
  },
  "language_info": {
   "codemirror_mode": {
    "name": "ipython",
    "version": 3
   },
   "file_extension": ".py",
   "mimetype": "text/x-python",
   "name": "python",
   "nbconvert_exporter": "python",
   "pygments_lexer": "ipython3",
   "version": "3.9.7"
  }
 },
 "nbformat": 4,
 "nbformat_minor": 5
}
