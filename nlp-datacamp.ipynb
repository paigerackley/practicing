{
 "cells": [
  {
   "cell_type": "code",
   "execution_count": 1,
   "id": "5c05a17a",
   "metadata": {},
   "outputs": [],
   "source": [
    "import re"
   ]
  },
  {
   "cell_type": "code",
   "execution_count": 2,
   "id": "d6b0b508",
   "metadata": {},
   "outputs": [
    {
     "data": {
      "text/plain": [
       "<re.Match object; span=(0, 3), match='abc'>"
      ]
     },
     "execution_count": 2,
     "metadata": {},
     "output_type": "execute_result"
    }
   ],
   "source": [
    "re.match('abc', 'abcdef')"
   ]
  },
  {
   "cell_type": "markdown",
   "id": "265f62c0",
   "metadata": {},
   "source": [
    "<b>Common Regex Patterns </b>\n",
    "\n",
    "\n",
    "\\w+ - matches word - ex. 'Magic'\n",
    "\n",
    "\\d - matches digits - ex. 9\n",
    "\n",
    "\\s - matches space - ex. ''\n",
    "\n",
    ".* - matches wildcard - ex. 'username74'\n",
    "\n",
    "\n",
    "+ or * - matches greedy match - ex. 'aaaaaa'\n",
    "\n",
    "\\S matches NOT space - ex. 'no_spaces'\n",
    "\n",
    "[a-z] - matches lowercase group - 'abcdefg'"
   ]
  },
  {
   "cell_type": "code",
   "execution_count": null,
   "id": "f0155719",
   "metadata": {},
   "outputs": [],
   "source": []
  },
  {
   "cell_type": "code",
   "execution_count": null,
   "id": "b59eafbb",
   "metadata": {},
   "outputs": [],
   "source": []
  }
 ],
 "metadata": {
  "kernelspec": {
   "display_name": "Python 3 (ipykernel)",
   "language": "python",
   "name": "python3"
  },
  "language_info": {
   "codemirror_mode": {
    "name": "ipython",
    "version": 3
   },
   "file_extension": ".py",
   "mimetype": "text/x-python",
   "name": "python",
   "nbconvert_exporter": "python",
   "pygments_lexer": "ipython3",
   "version": "3.9.7"
  }
 },
 "nbformat": 4,
 "nbformat_minor": 5
}
