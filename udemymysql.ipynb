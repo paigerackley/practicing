{
 "cells": [
  {
   "cell_type": "markdown",
   "id": "a4ac710b",
   "metadata": {},
   "source": [
    "#### What is a database?\n",
    "A structured set of computerized data with an accessible interface. \n",
    "\n",
    "\n",
    "1. A collection of data. ex. a phone book\n",
    "2. A method for accessing and manipulating data.\n",
    "\n",
    "\n",
    "\n",
    "\n",
    "Your app ----> Database Management System (DBMS) ---> Your database\n",
    "\n",
    "\n",
    "\n",
    "\n",
    "<b>DBMS</b> ex. PostgreSQL, Oracle ----> <b>Database</b> ex. MySQL, SQLite = \"Database\"\n",
    "\n",
    "\n",
    "#### MySQL vs. SQL? \n",
    "\n",
    "SQL is the language we use to 'talk' to our databases.\n",
    "\n",
    "\n",
    "\n",
    "<u>Relational Databases that write in SQL:</u>\n",
    "\n",
    "    - MySQL\n",
    "    - SQLite\n",
    "    - PostgreSQL\n",
    "    - Oracle\n",
    "\n",
    "There is sometimes <i> slight </i> differences in syntax."
   ]
  },
  {
   "cell_type": "markdown",
   "id": "7780746a",
   "metadata": {},
   "source": [
    "#### In MySQLWorkbench, comments can be placed  with '-- '\n",
    "You can also do comments when using SQL in command line the same way"
   ]
  },
  {
   "cell_type": "markdown",
   "id": "6fe52b34",
   "metadata": {},
   "source": [
    "- CREATE DATABASE < database_name> ;\n",
    "- DROP DATABASE < database_name> ; (this is also irreversible, be careful)\n",
    "- SHOW databases;\n",
    "- USE < database_name> ;\n",
    "\n",
    "\n",
    "\n",
    "\n"
   ]
  },
  {
   "cell_type": "markdown",
   "id": "da32f034",
   "metadata": {},
   "source": [
    "### Datatypes\n",
    "\n",
    "#### Numeric Types\n",
    "- INT:\n",
    "    - A whole number w max (signed) value of 2147483647. (dont worry about max size)\n",
    "- SMALLINT\n",
    "- TINYINT\n",
    "- MEDIUMINT\n",
    "- BIGINT \n",
    "- DECIMAL\n",
    "- NUMERIC\n",
    "- FLOAT\n",
    "- DOUBLE\n",
    "- BIT\n",
    "\n",
    "#### String Types\n",
    "- CHAR\n",
    "- VARCHAR\n",
    "    - a variable-length string ex. 'coffee!!', '-9999', 'AAbbb adfad' (max is 100 chars)\n",
    "- BINARY\n",
    "- VARBINARY\n",
    "- BLOB\n",
    "- TINYBLOB\n",
    "- MEDIUMBLOB\n",
    "- LONGBLOB\n",
    "- TEXT\n",
    "- TINYTEXT\n",
    "- MEDIUMTEXT\n",
    "- LONGTEXT\n",
    "- ENUM\n",
    "\n",
    "#### Date Types\n",
    "- DATE \n",
    "- DATETIME\n",
    "- TIMESTAMP\n",
    "- TIME\n",
    "- YEAR"
   ]
  },
  {
   "cell_type": "raw",
   "id": "8cd8d53b",
   "metadata": {},
   "source": [
    "CREATE TABLE table_name (\n",
    "    name VARCHAR(max chars),\n",
    "    age INT\n",
    ");\n",
    "\n",
    "\n",
    "ex.\n",
    "CREATE TABLE cats (\n",
    "    name VARCHAR(50),\n",
    "    breed VARCHAR(50),\n",
    "    age INT\n",
    ");\n",
    "\n",
    "\n",
    "DROP TABLE table_name;  <-- Easy as that, but again, completely permanent\n",
    "(can also just right click in mysql workbench to drop)"
   ]
  },
  {
   "cell_type": "markdown",
   "id": "6dbc12b1",
   "metadata": {},
   "source": [
    "how to view your tables?\n",
    "\n",
    "SHOW tables;\n",
    "\n",
    "\n",
    "Wanna see the columns <b> in </b> the tables?\n",
    "   - SHOW columns FROM table_name;\n",
    "   - DESCRIBE table_name;\n",
    "   - DESC table_name;\n",
    "   \n",
    "All will result in the same thing :)"
   ]
  },
  {
   "cell_type": "raw",
   "id": "b5fc5b72",
   "metadata": {},
   "source": [
    "Insert an entry into a table:\n",
    "\n",
    "ex:\n",
    "\n",
    "INSERT INTO cats (name,age)\n",
    "VALUES ('Blue Steele', 5);\n",
    "\n",
    "Multi insert ex:\n",
    "\n",
    "INSERT INTO cats (name,age)\n",
    "VALUES (\"Meatball\", 5),\n",
    "(\"Turkey\", 1),\n",
    "(\"Potato Face\", 15);"
   ]
  },
  {
   "cell_type": "markdown",
   "id": "f6c94ae1",
   "metadata": {},
   "source": [
    "#### Working with NOT NULL\n",
    "\n",
    "Without specifying, a table can have null values in columns when the entry doesn't provide info for said column. To require values for all columns you can do this:"
   ]
  },
  {
   "cell_type": "raw",
   "id": "d98cc419",
   "metadata": {},
   "source": [
    "CREATE TABLE table_name (\n",
    "        column1 VARCHAR(100) NOT NULL,\n",
    "        column2 INT NOT NULL\n",
    "        );"
   ]
  },
  {
   "cell_type": "markdown",
   "id": "0beadfb3",
   "metadata": {},
   "source": [
    "Want an entry that contains a ' ?\n",
    "\n",
    "ex.\n",
    "INSERT INTO(name) VALUES ('mario\\'s pizza');\n",
    "\n",
    "\n",
    "The backslash will allow the comma without disrupting the query."
   ]
  },
  {
   "cell_type": "raw",
   "id": "f5057f94",
   "metadata": {},
   "source": [
    "EX. INSERT INTO shops(name) VALUES ('she said \"haha\"');\n",
    "\n",
    "\n",
    "this will allow DOUBLE QUOTES in an entry.\n",
    "\n",
    "BEST PRACTICE is single quotes, so stick with that unless ABSOLUTELY NECESSARY."
   ]
  },
  {
   "cell_type": "markdown",
   "id": "dc3cccce",
   "metadata": {},
   "source": [
    "<u> Define a table with a <b> DEFAULT </b> name specified: </u>\n",
    "\n",
    "CREATE TABLE cats3  (    \n",
    "    name VARCHAR(20) DEFAULT 'no name provided',    \n",
    "    age INT DEFAULT 99  \n",
    ");\n",
    "\n",
    "\n",
    "Combine NOT NULL and DEFAULT:\n",
    "\n",
    "CREATE TABLE cats4  (    \n",
    "    name VARCHAR(20) NOT NULL DEFAULT 'unnamed',    \n",
    "    age INT NOT NULL DEFAULT 99 \n",
    ");"
   ]
  },
  {
   "cell_type": "markdown",
   "id": "53385b28",
   "metadata": {},
   "source": [
    "<b>Primary Key = Unique Identifier </b>\n",
    "\n",
    "Usually set for ID columns, you set the ID number, then it can't be used again."
   ]
  },
  {
   "cell_type": "raw",
   "id": "b75ac0b8",
   "metadata": {},
   "source": [
    "-- One way of specifying a PRIMARY KEY\n",
    "\n",
    "CREATE TABLE unique_cats (\n",
    "\tcat_id INT PRIMARY KEY,\n",
    "    name VARCHAR(100) NOT NULL,\n",
    "    age INT NOT NULL\n",
    ");\n",
    "\n",
    "\n",
    "-- Another option:\n",
    "\n",
    "\n",
    "\n",
    "CREATE TABLE unique_cats2 (\n",
    "\tcat_id INT,\n",
    "    name VARCHAR(100) NOT NULL,\n",
    "    age INT NOT NULL,\n",
    "    PRIMARY KEY (cat_id)\n",
    ");\n"
   ]
  },
  {
   "cell_type": "markdown",
   "id": "22df1cd0",
   "metadata": {},
   "source": [
    "Primary keys:\n",
    "    - NOT NULL is redundant, primary keys cannot be null."
   ]
  },
  {
   "cell_type": "markdown",
   "id": "43c5a1ba",
   "metadata": {},
   "source": [
    "<b> useful tool for primary keys = auto-increment!</b>"
   ]
  },
  {
   "cell_type": "raw",
   "id": "c0fc0ad8",
   "metadata": {},
   "source": [
    "CREATE TABLE unique_cats3 (\n",
    "    cat_id INT AUTO_INCREMENT,\n",
    "    name VARCHAR(100),\n",
    "    age INT,\n",
    "    PRIMARY KEY (cat_id)\n",
    "   );\n",
    "   \n",
    "\n",
    "for the example above, cat_id will automaticaly increment for each new cat inserted into the table.\n",
    "\n",
    "ALSO you don't HAVE to seperate it, easier to just do it like this:\n",
    "\n",
    "CREATE TABLE unique_cats3 (\n",
    "    cat_id INT AUTO_INCREMENT PRIMARY KEY,\n",
    "    name VARCHAR(100),\n",
    "    age INT\n",
    "   );"
   ]
  },
  {
   "cell_type": "markdown",
   "id": "9c2aaf60",
   "metadata": {},
   "source": [
    "<b>C</b>reate\n",
    "\n",
    "    - INSERT INTO\n",
    "    \n",
    "<b>R</b>ead\n",
    "\n",
    "    - SELECT\n",
    "\n",
    "<b>U</b>pdate\n",
    "\n",
    "<b>D</b>elete\n",
    "\n",
    "<b>C.R.U.D.</b>"
   ]
  },
  {
   "cell_type": "markdown",
   "id": "34592f27",
   "metadata": {},
   "source": [
    "#### Subqueries\n",
    "\n",
    "A subquery is a SQL query nested inside a larger query.\n",
    "\n",
    "A subquery may occur in :\n",
    "- A SELECT clause\n",
    "- A FROM clause\n",
    "- A WHERE clause\n",
    "The subquery can be nested inside a SELECT, INSERT, UPDATE, or DELETE statement or inside another subquery.\n",
    "A subquery is usually added within the WHERE Clause of another SQL SELECT statement.\n",
    "You can use the comparison operators, such as >, <, or =. The comparison operator can also be a multiple-row operator, such as IN, ANY, or ALL.\n",
    "A subquery is also called an inner query or inner select, while the statement containing a subquery is also called an outer query or outer select.\n",
    "The inner query executes first before its parent query so that the results of an inner query can be passed to the outer query.\n",
    "You can use a subquery in a SELECT, INSERT, DELETE, or UPDATE statement to perform the following tasks:\n",
    "\n",
    "Compare an expression to the result of the query.\n",
    "Determine if an expression is included in the results of the query.\n",
    "Check whether the query selects any rows.\n",
    "\n",
    "\n",
    "\n",
    "\n",
    "\n",
    "\n",
    "\n",
    "\n",
    "<u>To view all rows in a table/easiest select statement:</u>\n",
    "\n",
    "\n",
    "SELECT * FROM table_name;"
   ]
  },
  {
   "cell_type": "markdown",
   "id": "ed0f9208",
   "metadata": {},
   "source": [
    "#### Aggregate Functions\n",
    "\n",
    "An aggregate function performs a calculation on a set of values, and returns a single value. Except for COUNT(*), aggregate functions ignore null values. Aggregate functions are often used with the GROUP BY clause of the SELECT statement.\n",
    "\n",
    "- COUNT  counts how many rows are in a particular column.\n",
    "- SUM adds together all the values in a particular column.\n",
    "- MIN and MAX return the lowest and highest values in a particular column, respectively.\n",
    "- AVG calculates the average of a group of selected values."
   ]
  },
  {
   "cell_type": "code",
   "execution_count": null,
   "id": "99172a57",
   "metadata": {},
   "outputs": [],
   "source": []
  }
 ],
 "metadata": {
  "kernelspec": {
   "display_name": "Python 3 (ipykernel)",
   "language": "python",
   "name": "python3"
  },
  "language_info": {
   "codemirror_mode": {
    "name": "ipython",
    "version": 3
   },
   "file_extension": ".py",
   "mimetype": "text/x-python",
   "name": "python",
   "nbconvert_exporter": "python",
   "pygments_lexer": "ipython3",
   "version": "3.9.7"
  }
 },
 "nbformat": 4,
 "nbformat_minor": 5
}
