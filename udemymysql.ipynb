{
 "cells": [
  {
   "cell_type": "markdown",
   "id": "a4ac710b",
   "metadata": {},
   "source": [
    "#### What is a database?\n",
    "A structured set of computerized data with an accessible interface. \n",
    "\n",
    "\n",
    "1. A collection of data. ex. a phone book\n",
    "2. A method for accessing and manipulating data.\n",
    "\n",
    "\n",
    "\n",
    "\n",
    "Your app ----> Database Management System (DBMS) ---> Your database\n",
    "\n",
    "\n",
    "\n",
    "\n",
    "<b>DBMS</b> ex. PostgreSQL, Oracle ----> <b>Database</b> ex. MySQL, SQLite = \"Database\"\n",
    "\n",
    "\n",
    "#### MySQL vs. SQL? \n",
    "\n",
    "SQL is the language we use to 'talk' to our databases.\n",
    "\n",
    "\n",
    "\n",
    "<u>Relational Databases that write in SQL:</u>\n",
    "\n",
    "    - MySQL\n",
    "    - SQLite\n",
    "    - PostgreSQL\n",
    "    - Oracle\n",
    "\n",
    "There is sometimes <i> slight </i> differences in syntax."
   ]
  },
  {
   "cell_type": "markdown",
   "id": "ed0f9208",
   "metadata": {},
   "source": [
    "#### Aggregate Functions\n",
    "\n",
    "\n",
    "- COUNT  counts how many rows are in a particular column.\n",
    "- SUM adds together all the values in a particular column.\n",
    "- MIN and MAX return the lowest and highest values in a particular column, respectively.\n",
    "- AVG calculates the average of a group of selected values."
   ]
  },
  {
   "cell_type": "markdown",
   "id": "34592f27",
   "metadata": {},
   "source": [
    "#### Subqueries\n",
    "\n",
    "A subquery is a SQL query nested inside a larger query.\n",
    "\n",
    "A subquery may occur in :\n",
    "- A SELECT clause\n",
    "- A FROM clause\n",
    "- A WHERE clause\n",
    "The subquery can be nested inside a SELECT, INSERT, UPDATE, or DELETE statement or inside another subquery.\n",
    "A subquery is usually added within the WHERE Clause of another SQL SELECT statement.\n",
    "You can use the comparison operators, such as >, <, or =. The comparison operator can also be a multiple-row operator, such as IN, ANY, or ALL.\n",
    "A subquery is also called an inner query or inner select, while the statement containing a subquery is also called an outer query or outer select.\n",
    "The inner query executes first before its parent query so that the results of an inner query can be passed to the outer query.\n",
    "You can use a subquery in a SELECT, INSERT, DELETE, or UPDATE statement to perform the following tasks:\n",
    "\n",
    "Compare an expression to the result of the query.\n",
    "Determine if an expression is included in the results of the query.\n",
    "Check whether the query selects any rows.\n"
   ]
  },
  {
   "cell_type": "markdown",
   "id": "6fe52b34",
   "metadata": {},
   "source": [
    "- CREATE DATABASE < database_name> ;\n",
    "- DROP DATABASE < database_name> ; (this is also irreversible, be careful)\n",
    "- USE < database_name> ;\n",
    "\n",
    "\n",
    "\n",
    "\n"
   ]
  },
  {
   "cell_type": "code",
   "execution_count": null,
   "id": "99172a57",
   "metadata": {},
   "outputs": [],
   "source": []
  }
 ],
 "metadata": {
  "kernelspec": {
   "display_name": "Python 3 (ipykernel)",
   "language": "python",
   "name": "python3"
  },
  "language_info": {
   "codemirror_mode": {
    "name": "ipython",
    "version": 3
   },
   "file_extension": ".py",
   "mimetype": "text/x-python",
   "name": "python",
   "nbconvert_exporter": "python",
   "pygments_lexer": "ipython3",
   "version": "3.9.7"
  }
 },
 "nbformat": 4,
 "nbformat_minor": 5
}
